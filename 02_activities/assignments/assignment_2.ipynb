{
  "cells": [
    {
      "cell_type": "markdown",
      "id": "7c6788aef474ca12",
      "metadata": {
        "collapsed": false,
        "id": "7c6788aef474ca12"
      },
      "source": [
        "# Text Generation with Recurrent Neural Networks (RNNs)\n",
        "\n",
        "In this assignment, you'll build upon your understanding of RNNs and Keras to develop a word-level text generation model.  Your goal is to train a model that learns the stylistic nuances of a chosen corpus and generates new, original text segments that echo the source material's essence.\n",
        "\n",
        "**Datasets**\n",
        "\n",
        "We've provided several intriguing text corpora to get you started:\n",
        "\n",
        "*   Mark Twain\n",
        "*   Charles Dickens\n",
        "*   William Shakespeare\n",
        "\n",
        "**Feel free to explore!**  If you have a particular passion for another author, genre, or a specific text, you're encouraged to use your own dataset of raw text."
      ]
    },
    {
      "cell_type": "code",
      "execution_count": 2,
      "id": "2d0bfedcfe52aedc",
      "metadata": {
        "colab": {
          "base_uri": "https://localhost:8080/"
        },
        "id": "2d0bfedcfe52aedc",
        "outputId": "ca62af0b-96cb-43d3-f74a-443ad88254f7"
      },
      "outputs": [
        {
          "name": "stdout",
          "output_type": "stream",
          "text": [
            "Default GPU Device: /device:GPU:0\n"
          ]
        }
      ],
      "source": [
        "# Check if we have a GPU available\n",
        "import tensorflow as tf\n",
        "if tf.test.gpu_device_name():\n",
        "    print('Default GPU Device: {}'.format(tf.test.gpu_device_name()))\n",
        "else:\n",
        "    print(\"No GPU available. If you're on Colab, go to Runtime > Change runtime and select a GPU hardware accelerator.\")"
      ]
    },
    {
      "cell_type": "code",
      "execution_count": 3,
      "id": "9c28c497f620b775",
      "metadata": {
        "ExecuteTime": {
          "end_time": "2024-02-08T21:30:44.959803Z",
          "start_time": "2024-02-08T21:30:44.701343Z"
        },
        "id": "9c28c497f620b775"
      },
      "outputs": [],
      "source": [
        "def download_file(url, file_path):\n",
        "    import requests\n",
        "    r = requests.get(url)\n",
        "    with open(file_path, 'wb') as f:\n",
        "        f.write(r.content)\n",
        "\n",
        "def load_dataset(file_path, fraction=1.0):\n",
        "    with open(file_path, 'r', encoding='utf-8') as f:\n",
        "        raw_text = f.read()\n",
        "    return raw_text[:int(fraction * len(raw_text))]\n",
        "\n",
        "dataset = 'downloaded_books/shakespeare.txt'\n",
        "fraction = 0.01\n",
        "\n",
        "with open(dataset,'r',encoding='utf-8') as file:\n",
        "    raw_text = file.read()\n",
        "text = raw_text[:int(fraction * len(raw_text))]\n"
      ]
    },
    {
      "cell_type": "markdown",
      "id": "dab51c764031e606",
      "metadata": {
        "collapsed": false,
        "id": "dab51c764031e606"
      },
      "source": [
        "# 1. Data Preparation (Complete or Incomplete)\n",
        "\n",
        "Before we can begin training an RNN model, we need to prepare the dataset. This involves cleaning the text, tokenizing words, and creating sequences the model can be trained on.\n",
        "\n",
        "## 1.1 Data Exploration\n",
        "\n",
        "Print the first 1000 characters of the dataset. Report the dataset's size and the number of unique characters it contains."
      ]
    },
    {
      "cell_type": "code",
      "execution_count": 4,
      "id": "BunkZmdkl0Wn",
      "metadata": {
        "colab": {
          "base_uri": "https://localhost:8080/"
        },
        "id": "BunkZmdkl0Wn",
        "outputId": "58088183-167f-4171-c5fc-c09e06346455"
      },
      "outputs": [
        {
          "name": "stdout",
          "output_type": "stream",
          "text": [
            "The Project Gutenberg EBook of Hamlet, by William Shakespeare\n",
            "\n",
            "This eBook is for the use of anyone anywhere at no cost and with\n",
            "almost no restrictions whatsoever.  You may copy it, give it away or\n",
            "re-use it under the terms of the Project Gutenberg License included\n",
            "with this eBook or online at www.gutenberg.org\n",
            "\n",
            "\n",
            "Title: Hamlet\n",
            "\n",
            "Author: William Shakespeare\n",
            "\n",
            "Editor: Charles Kean\n",
            "\n",
            "Release Date: January 10, 2009 [EBook #27761]\n",
            "\n",
            "Language: English\n",
            "\n",
            "Character set encoding: UTF-8\n",
            "\n",
            "*** START OF THIS PROJECT GUTENBERG EBOOK HAMLET ***\n",
            "\n",
            "\n",
            "\n",
            "\n",
            "Produced by David Starner, Curtis Weyant and the Online\n",
            "Distributed Proofreading Team at https://www.pgdp.net\n",
            "\n",
            "\n",
            "\n",
            "\n",
            "\n",
            "\n",
            "\n",
            "\n",
            "\n",
            "    Transcriber's Note:\n",
            "    This is a heavily edited version of _Hamlet_. It was used\n",
            "    for Charles Kean's 1859 stage production. Phrases printed\n",
            "    in italics in the book are indicated in this electronic\n",
            "    version by _ (underscore). Footnotes originally appeared\n",
            "    at the bottom of each page. For this electronic version\n",
            "    the footnotes \n",
            "dataset size:  93588\n",
            "unique chars: {len(unique_chars)}\n"
          ]
        }
      ],
      "source": [
        "# Your code here\n",
        "print(text[:1000])\n",
        "print('dataset size: ', len(text))\n",
        "\n",
        "unique_chars = set(text)\n",
        "print(\"unique chars: {len(unique_chars)}\")"
      ]
    },
    {
      "cell_type": "markdown",
      "id": "3ae1639f5ecfe587",
      "metadata": {
        "collapsed": false,
        "id": "3ae1639f5ecfe587"
      },
      "source": [
        "## 1.2 Text Pre-Processing\n",
        "\n",
        "To prepare the dataset for training, we need to clean the text and create a numerical representation the model can interpret. Perform the following pre-processing steps:\n",
        "\n",
        "*   Convert the entire text to lowercase.\n",
        "*   Use the `Tokenizer` class from the `keras.preprocessing.text` module to tokenize the text. You should fit the tokenizer on the text and then convert the text to a sequence of numbers. You can use the `texts_to_sequences` method to do this.\n",
        "\n",
        "**Note**:\n",
        "* You'll need to specify an appropriate size for the vocabulary. The number of words in the list of most common words can serve as a guide - does it seem like a reasonable vocabulary size?\n",
        "* Some of the words will be excluded from the vocabulary, as they don't appear often enough. It's important to provide a value for `oov_token` when creating the Tokenizer instance, so that these words can be represented as \"unknown\"."
      ]
    },
    {
      "cell_type": "code",
      "execution_count": 5,
      "id": "4d0d30cd98ea453c",
      "metadata": {
        "id": "4d0d30cd98ea453c"
      },
      "outputs": [],
      "source": [
        "from tensorflow.keras.preprocessing.text import Tokenizer\n",
        "\n",
        "# Your code here\n",
        "VOCAB_SIZE = len(set(text.split()))\n",
        "OOV_TOKEN = \"OOV\"\n",
        "\n",
        "tokenizer = Tokenizer(num_words=VOCAB_SIZE, oov_token=OOV_TOKEN,char_level=False)\n",
        "tokenizer.fit_on_texts([text])\n"
      ]
    },
    {
      "cell_type": "markdown",
      "id": "89d32bb9356f711",
      "metadata": {
        "collapsed": false,
        "id": "89d32bb9356f711"
      },
      "source": [
        "If everything worked, the following line should show you the first 10 words in the vocabulary:"
      ]
    },
    {
      "cell_type": "code",
      "execution_count": 6,
      "id": "6a7cd547a19feece",
      "metadata": {
        "colab": {
          "base_uri": "https://localhost:8080/"
        },
        "id": "6a7cd547a19feece",
        "outputId": "557e283b-9417-44f3-daad-65eacb3e4042"
      },
      "outputs": [
        {
          "name": "stdout",
          "output_type": "stream",
          "text": [
            "[('OOV', 1), ('the', 2), ('to', 3), ('and', 4), ('of', 5), ('i', 6), ('a', 7), ('in', 8), ('my', 9), ('footnote', 10)]\n"
          ]
        }
      ],
      "source": [
        "try:\n",
        "    print(list(tokenizer.word_index.items())[:10])\n",
        "except AttributeError:\n",
        "    print(\"Tokenizer has not been initialized. Possible issue: Complete the relevant section of the assignment to initialize it.\"\n",
        ")\n"
      ]
    },
    {
      "cell_type": "markdown",
      "id": "da504e4bc6617613",
      "metadata": {
        "collapsed": false,
        "id": "da504e4bc6617613"
      },
      "source": [
        "## 1.3 Sequence Generation\n",
        "\n",
        "Now that the text has been tokenized, we need to create sequences the model can be trained on. There are two parts to this:\n",
        "\n",
        "*   Use the `texts_to_sequences` method from the tokenizer to convert the text to a list of sequences of numbers.\n",
        "*   Generate the training sequences. Each training sequence should contain `SEQ_LENGTH` token IDs from the text. The target token for each sequence should be the word that follows the sequence in the text."
      ]
    },
    {
      "cell_type": "code",
      "execution_count": 7,
      "id": "4ff5fc8d0273709c",
      "metadata": {
        "id": "4ff5fc8d0273709c"
      },
      "outputs": [],
      "source": [
        "import numpy as np\n",
        "SEQ_LENGTH = 50\n",
        "\n",
        "sequences = tokenizer.texts_to_sequences([text])[0]\n",
        "# Generate the training sequences\n",
        "X = []\n",
        "y = []\n",
        "\n",
        "for i in range(SEQ_LENGTH, len(sequences)):\n",
        "    X.append(sequences[i-SEQ_LENGTH:i])\n",
        "    y.append(sequences[i])\n"
      ]
    },
    {
      "cell_type": "markdown",
      "id": "3b6bdc0deb930df1",
      "metadata": {
        "collapsed": false,
        "id": "3b6bdc0deb930df1"
      },
      "source": [
        "Assuming your sequences are stored in `X` and the corresponding targets in `y`, the following line should print the first training sequence and its target:"
      ]
    },
    {
      "cell_type": "code",
      "execution_count": 8,
      "id": "a495cab04001ce92",
      "metadata": {
        "colab": {
          "base_uri": "https://localhost:8080/"
        },
        "id": "a495cab04001ce92",
        "outputId": "c335b309-5798-4b06-9ee1-797dddae4a49"
      },
      "outputs": [
        {
          "name": "stdout",
          "output_type": "stream",
          "text": [
            "Sequence: [   2  606  461  366    5   45   31  607  310   18  366   15   20    2\n",
            "  190    5 1388 1389   47   49 1390    4   17  367   49 1391  826   11\n",
            "   70 1392   12  108   12  228   29  462  190   12  463    2  827    5\n",
            "    2  606  461 1393 1394   17   18  366]\n",
            "Target: 29\n",
            "Translated back to words: ['the', 'project', 'gutenberg', 'ebook', 'of', 'hamlet', 'by', 'william', 'shakespeare', 'this', 'ebook', 'is', 'for', 'the', 'use', 'of', 'anyone', 'anywhere', 'at', 'no', 'cost', 'and', 'with', 'almost', 'no', 'restrictions', 'whatsoever', 'you', 'may', 'copy', 'it', 'give', 'it', 'away', 'or', 're', 'use', 'it', 'under', 'the', 'terms', 'of', 'the', 'project', 'gutenberg', 'license', 'included', 'with', 'this', 'ebook'] -> or\n"
          ]
        }
      ],
      "source": [
        "if len(X) > 0 and len(y) > 0:\n",
        "    print(f'Sequence: {X[0]}\\nTarget: {y[0]}')\n",
        "    print(f'Translated back to words: {[tokenizer.index_word[i] for i in X[0]]} -> {tokenizer.index_word[y[0]]}')\n",
        "else:\n",
        "    print(\"Training sequences have not been generated. Possible issue: Complete the relevant section of the assignment to initialize it.\")\n"
      ]
    },
    {
      "cell_type": "markdown",
      "id": "d5bb2c55da17aaa0",
      "metadata": {
        "collapsed": false,
        "id": "d5bb2c55da17aaa0"
      },
      "source": [
        "And the following code will transform y into a one-hot encoded matrix, and split everything into training and validation sets:"
      ]
    },
    {
      "cell_type": "code",
      "execution_count": 9,
      "id": "3a929b2e6c2cc921",
      "metadata": {
        "colab": {
          "base_uri": "https://localhost:8080/"
        },
        "id": "3a929b2e6c2cc921",
        "outputId": "07de5779-0f93-440c-a9f5-df3518cea014"
      },
      "outputs": [
        {
          "name": "stdout",
          "output_type": "stream",
          "text": [
            "X_train shape: (12274, 50)\n",
            "y_train shape: (12274, 5223)\n"
          ]
        }
      ],
      "source": [
        "from sklearn.model_selection import train_test_split\n",
        "from keras.utils import to_categorical\n",
        "import numpy as np\n",
        "\n",
        "# Ensure that tokenizer has been initialized\n",
        "if tokenizer is not None:\n",
        "    # Convert X and y to numpy arrays\n",
        "    X = np.array(X)\n",
        "    y = np.array(y)\n",
        "\n",
        "    # One last thing: let's drop any examples where the target is the OOV token - we don't want our model to predict that (boring!)\n",
        "    if OOV_TOKEN in tokenizer.word_index:\n",
        "        mask = y != tokenizer.word_index[OOV_TOKEN]\n",
        "        X = X[mask]\n",
        "        y = y[mask]\n",
        "\n",
        "    # One-hot encode the target token\n",
        "    y = to_categorical(y, num_classes=VOCAB_SIZE)\n",
        "\n",
        "    # Split the data into training and validation sets\n",
        "    X_train, X_val, y_train, y_val = train_test_split(X, y, test_size=0.2, random_state=42)\n",
        "\n",
        "    print(f'X_train shape: {X_train.shape}')\n",
        "    print(f'y_train shape: {y_train.shape}')\n",
        "else:\n",
        "    print(\"Tokenizer has not been initialized. Please initialize it and load the vocabulary before continuing.\")\n"
      ]
    },
    {
      "cell_type": "markdown",
      "id": "b6e4161897210434",
      "metadata": {
        "collapsed": false,
        "id": "b6e4161897210434"
      },
      "source": [
        "# 2. Model Development (Complete or Incomplete)\n",
        "\n",
        "With the dataset prepared, it's time to develop the RNN model. You'll need to define the architecture of the model, compile it, and prepare it for training.\n",
        "\n",
        "## 2.1 Model Architecture\n",
        "\n",
        "Define the architecture of your RNN model. You can design it however you like, but there are a few features that it's important to include:\n",
        "\n",
        "*   An embedding layer that learns a dense representation of the input tokens. You'll need to specify the input dimension (the size of the vocabulary) and the output dimension (the size of the dense representation). Remember, you can look at the documentation [here](https://keras.io/api/layers/core_layers/embedding/).\n",
        "*   At least one recurrent layer. We have learned how to use LSTM layers in class, but you can use other types of recurrent layers if you prefer. You can find the documentation [here](https://keras.io/api/layers/recurrent_layers/lstm/).\n",
        "*   A dense layer with a softmax activation function. This layer will output a probability distribution over the vocabulary, so that the model can make predictions about the next token."
      ]
    },
    {
      "cell_type": "code",
      "execution_count": 10,
      "id": "9fdfaad93818fc8d",
      "metadata": {
        "colab": {
          "base_uri": "https://localhost:8080/",
          "height": 293
        },
        "id": "9fdfaad93818fc8d",
        "outputId": "bcd4b476-f75a-45bd-ed59-9d07e597a062"
      },
      "outputs": [
        {
          "name": "stderr",
          "output_type": "stream",
          "text": [
            "/usr/local/lib/python3.10/dist-packages/keras/src/layers/core/embedding.py:90: UserWarning: Argument `input_length` is deprecated. Just remove it.\n",
            "  warnings.warn(\n"
          ]
        },
        {
          "data": {
            "text/html": [
              "<pre style=\"white-space:pre;overflow-x:auto;line-height:normal;font-family:Menlo,'DejaVu Sans Mono',consolas,'Courier New',monospace\"><span style=\"font-weight: bold\">Model: \"sequential\"</span>\n",
              "</pre>\n"
            ],
            "text/plain": [
              "\u001b[1mModel: \"sequential\"\u001b[0m\n"
            ]
          },
          "metadata": {},
          "output_type": "display_data"
        },
        {
          "data": {
            "text/html": [
              "<pre style=\"white-space:pre;overflow-x:auto;line-height:normal;font-family:Menlo,'DejaVu Sans Mono',consolas,'Courier New',monospace\">┏━━━━━━━━━━━━━━━━━━━━━━━━━━━━━━━━━━━━━━┳━━━━━━━━━━━━━━━━━━━━━━━━━━━━━┳━━━━━━━━━━━━━━━━━┓\n",
              "┃<span style=\"font-weight: bold\"> Layer (type)                         </span>┃<span style=\"font-weight: bold\"> Output Shape                </span>┃<span style=\"font-weight: bold\">         Param # </span>┃\n",
              "┡━━━━━━━━━━━━━━━━━━━━━━━━━━━━━━━━━━━━━━╇━━━━━━━━━━━━━━━━━━━━━━━━━━━━━╇━━━━━━━━━━━━━━━━━┩\n",
              "│ embedding (<span style=\"color: #0087ff; text-decoration-color: #0087ff\">Embedding</span>)                │ ?                           │     <span style=\"color: #00af00; text-decoration-color: #00af00\">0</span> (unbuilt) │\n",
              "├──────────────────────────────────────┼─────────────────────────────┼─────────────────┤\n",
              "│ lstm (<span style=\"color: #0087ff; text-decoration-color: #0087ff\">LSTM</span>)                          │ ?                           │     <span style=\"color: #00af00; text-decoration-color: #00af00\">0</span> (unbuilt) │\n",
              "├──────────────────────────────────────┼─────────────────────────────┼─────────────────┤\n",
              "│ dense (<span style=\"color: #0087ff; text-decoration-color: #0087ff\">Dense</span>)                        │ ?                           │     <span style=\"color: #00af00; text-decoration-color: #00af00\">0</span> (unbuilt) │\n",
              "└──────────────────────────────────────┴─────────────────────────────┴─────────────────┘\n",
              "</pre>\n"
            ],
            "text/plain": [
              "┏━━━━━━━━━━━━━━━━━━━━━━━━━━━━━━━━━━━━━━┳━━━━━━━━━━━━━━━━━━━━━━━━━━━━━┳━━━━━━━━━━━━━━━━━┓\n",
              "┃\u001b[1m \u001b[0m\u001b[1mLayer (type)                        \u001b[0m\u001b[1m \u001b[0m┃\u001b[1m \u001b[0m\u001b[1mOutput Shape               \u001b[0m\u001b[1m \u001b[0m┃\u001b[1m \u001b[0m\u001b[1m        Param #\u001b[0m\u001b[1m \u001b[0m┃\n",
              "┡━━━━━━━━━━━━━━━━━━━━━━━━━━━━━━━━━━━━━━╇━━━━━━━━━━━━━━━━━━━━━━━━━━━━━╇━━━━━━━━━━━━━━━━━┩\n",
              "│ embedding (\u001b[38;5;33mEmbedding\u001b[0m)                │ ?                           │     \u001b[38;5;34m0\u001b[0m (unbuilt) │\n",
              "├──────────────────────────────────────┼─────────────────────────────┼─────────────────┤\n",
              "│ lstm (\u001b[38;5;33mLSTM\u001b[0m)                          │ ?                           │     \u001b[38;5;34m0\u001b[0m (unbuilt) │\n",
              "├──────────────────────────────────────┼─────────────────────────────┼─────────────────┤\n",
              "│ dense (\u001b[38;5;33mDense\u001b[0m)                        │ ?                           │     \u001b[38;5;34m0\u001b[0m (unbuilt) │\n",
              "└──────────────────────────────────────┴─────────────────────────────┴─────────────────┘\n"
            ]
          },
          "metadata": {},
          "output_type": "display_data"
        },
        {
          "data": {
            "text/html": [
              "<pre style=\"white-space:pre;overflow-x:auto;line-height:normal;font-family:Menlo,'DejaVu Sans Mono',consolas,'Courier New',monospace\"><span style=\"font-weight: bold\"> Total params: </span><span style=\"color: #00af00; text-decoration-color: #00af00\">0</span> (0.00 B)\n",
              "</pre>\n"
            ],
            "text/plain": [
              "\u001b[1m Total params: \u001b[0m\u001b[38;5;34m0\u001b[0m (0.00 B)\n"
            ]
          },
          "metadata": {},
          "output_type": "display_data"
        },
        {
          "data": {
            "text/html": [
              "<pre style=\"white-space:pre;overflow-x:auto;line-height:normal;font-family:Menlo,'DejaVu Sans Mono',consolas,'Courier New',monospace\"><span style=\"font-weight: bold\"> Trainable params: </span><span style=\"color: #00af00; text-decoration-color: #00af00\">0</span> (0.00 B)\n",
              "</pre>\n"
            ],
            "text/plain": [
              "\u001b[1m Trainable params: \u001b[0m\u001b[38;5;34m0\u001b[0m (0.00 B)\n"
            ]
          },
          "metadata": {},
          "output_type": "display_data"
        },
        {
          "data": {
            "text/html": [
              "<pre style=\"white-space:pre;overflow-x:auto;line-height:normal;font-family:Menlo,'DejaVu Sans Mono',consolas,'Courier New',monospace\"><span style=\"font-weight: bold\"> Non-trainable params: </span><span style=\"color: #00af00; text-decoration-color: #00af00\">0</span> (0.00 B)\n",
              "</pre>\n"
            ],
            "text/plain": [
              "\u001b[1m Non-trainable params: \u001b[0m\u001b[38;5;34m0\u001b[0m (0.00 B)\n"
            ]
          },
          "metadata": {},
          "output_type": "display_data"
        }
      ],
      "source": [
        "from keras.models import Sequential\n",
        "from keras.layers import Embedding, LSTM, Dense\n",
        "\n",
        "embedding_size=64\n",
        "\n",
        "model = Sequential([\n",
        "    Embedding(input_dim=VOCAB_SIZE, output_dim=embedding_size, input_length=SEQ_LENGTH),\n",
        "    LSTM(units=100, return_sequences=False),\n",
        "    Dense(units=VOCAB_SIZE, activation='softmax')\n",
        "])\n",
        "\n",
        "# Check if the model has layers before trying to print the summary\n",
        "if len(model.layers) > 0:\n",
        "    model.summary()\n",
        "else:\n",
        "    print(\"No layers have been added to the model. Please complete the assignment by adding the required layers.\")"
      ]
    },
    {
      "cell_type": "markdown",
      "id": "2fafd2dbb0d589fc",
      "metadata": {
        "collapsed": false,
        "id": "2fafd2dbb0d589fc"
      },
      "source": [
        "## 2.2 Model Compilation\n",
        "\n",
        "Compile the model with an appropriate loss function and optimizer. You might also want to track additional metrics, such as accuracy.\n",
        "\n",
        "Give a short explanation of your choice of loss function and optimizer:\n",
        "\n",
        "_your explanation here_"
      ]
    },
    {
      "cell_type": "code",
      "execution_count": 11,
      "id": "ae4ca7a12051b1fd",
      "metadata": {
        "id": "ae4ca7a12051b1fd"
      },
      "outputs": [],
      "source": [
        "# Your code here\n",
        "from tensorflow.keras.optimizers import Adam\n",
        "model.compile(\n",
        "    loss='categorical_crossentropy',\n",
        "    optimizer=Adam(),\n",
        "    metrics=['accuracy']\n",
        ")"
      ]
    },
    {
      "cell_type": "markdown",
      "id": "c2f0b90a448c4f4b",
      "metadata": {
        "collapsed": false,
        "id": "c2f0b90a448c4f4b"
      },
      "source": [
        "## 2.3 Model Training\n",
        "\n",
        "Train the model on the training data you've prepared.\n",
        "\n",
        "* Train your model for 5 epochs with a batch size of 128. Use the validation data for validation.\n",
        "* Store the training history in a variable called `history`."
      ]
    },
    {
      "cell_type": "code",
      "execution_count": 15,
      "id": "256b1ea138c67ef7",
      "metadata": {
        "colab": {
          "base_uri": "https://localhost:8080/"
        },
        "id": "256b1ea138c67ef7",
        "outputId": "78872d5b-9f9a-4d28-b36d-19c7210c4c6e"
      },
      "outputs": [
        {
          "name": "stdout",
          "output_type": "stream",
          "text": [
            "Epoch 1/5\n",
            "\u001b[1m96/96\u001b[0m \u001b[32m━━━━━━━━━━━━━━━━━━━━\u001b[0m\u001b[37m\u001b[0m \u001b[1m2s\u001b[0m 19ms/step - accuracy: 0.0467 - loss: 6.1585 - val_accuracy: 0.0525 - val_loss: 7.0002\n",
            "Epoch 2/5\n",
            "\u001b[1m96/96\u001b[0m \u001b[32m━━━━━━━━━━━━━━━━━━━━\u001b[0m\u001b[37m\u001b[0m \u001b[1m1s\u001b[0m 13ms/step - accuracy: 0.0508 - loss: 6.1402 - val_accuracy: 0.0554 - val_loss: 7.0301\n",
            "Epoch 3/5\n",
            "\u001b[1m96/96\u001b[0m \u001b[32m━━━━━━━━━━━━━━━━━━━━\u001b[0m\u001b[37m\u001b[0m \u001b[1m1s\u001b[0m 12ms/step - accuracy: 0.0589 - loss: 6.0354 - val_accuracy: 0.0580 - val_loss: 7.0378\n",
            "Epoch 4/5\n",
            "\u001b[1m96/96\u001b[0m \u001b[32m━━━━━━━━━━━━━━━━━━━━\u001b[0m\u001b[37m\u001b[0m \u001b[1m1s\u001b[0m 13ms/step - accuracy: 0.0716 - loss: 5.9747 - val_accuracy: 0.0596 - val_loss: 7.0057\n",
            "Epoch 5/5\n",
            "\u001b[1m96/96\u001b[0m \u001b[32m━━━━━━━━━━━━━━━━━━━━\u001b[0m\u001b[37m\u001b[0m \u001b[1m1s\u001b[0m 14ms/step - accuracy: 0.0720 - loss: 5.9428 - val_accuracy: 0.0573 - val_loss: 7.0191\n"
          ]
        }
      ],
      "source": [
        "# Your code here\n",
        "\n",
        "history = model.fit(X_train, y_train, epochs=5, batch_size=128, validation_data=(X_val, y_val))\n",
        "\n",
        "# This are going to be pretty bad IMO. For some reason CUDA crashed out on my desktop _and_ laptop. So I had\n",
        "# to use google collab. Because of that I had to turn the fraction _way_ down to get collab to stop crashing\n",
        "# with too much ram."
      ]
    },
    {
      "cell_type": "markdown",
      "id": "195c59bf80d2a2c4",
      "metadata": {
        "collapsed": false,
        "id": "195c59bf80d2a2c4"
      },
      "source": [
        "Plot the training history to visualize the model's learning progress. Your plot should include the training and validation loss."
      ]
    },
    {
      "cell_type": "code",
      "execution_count": 20,
      "id": "9e8cacec70d8f313",
      "metadata": {
        "colab": {
          "base_uri": "https://localhost:8080/",
          "height": 486
        },
        "id": "9e8cacec70d8f313",
        "outputId": "7e08f5d3-8fc1-4fff-d382-1e87db4e5119"
      },
      "outputs": [
        {
          "data": {
            "image/png": "[encoded data removed]",
            "text/plain": [
              "<Figure size 1800x900 with 1 Axes>"
            ]
          },
          "metadata": {},
          "output_type": "display_data"
        }
      ],
      "source": [
        "import matplotlib.pyplot as plt\n",
        "\n",
        "plt.figure(figsize=(18, 9))\n",
        "plt.plot(history.history['loss'], label='training Loss')\n",
        "plt.plot(history.history['val_loss'], label='val_loss')\n",
        "plt.legend(loc='best')\n",
        "plt.show()\n"
      ]
    },
    {
      "cell_type": "markdown",
      "id": "3d9ed71305787aed",
      "metadata": {
        "collapsed": false,
        "id": "3d9ed71305787aed"
      },
      "source": [
        "# 3. Text Generation (Complete or Incomplete)\n",
        "\n",
        "Write a method called `generate_text` that uses the trained model to generate new text. The method should take the following parameters:\n",
        "\n",
        "*   `model`: The trained RNN model.\n",
        "*   `tokenizer`: The tokenizer used to pre-process the text data.\n",
        "*   `seed_text`: The seed text the model will use to generate new text.\n",
        "*   `max_sequence_len`: The maximum length of the sequence used to generate new text.\n",
        "\n",
        "The method should return the generated text.\n",
        "\n",
        "An overview of the text generation process you should follow:\n",
        "\n",
        "1. Tokenize the seed text using the tokenizer we built before.\n",
        "2. Pad the sequences to the same length as the training sequences - you can use the `pad_sequences` method from the `keras.preprocessing.sequence` module, which is documented [here](https://www.tensorflow.org/api_docs/python/tf/keras/preprocessing/sequence/pad_sequences).\n",
        "3. Use the model to predict the next token in the sequence. Remember that the model will output a probability distribution over the vocabulary, so you'll need to use `np.argmax` to find the token with the highest probability.\n",
        "4. Add the predicted token to the sequence and remove the first token.\n",
        "5. Repeat steps 3-4 until you have generated the desired number of tokens.\n",
        "6. Convert the generated token IDs back to words and return the combined result as a single string.\n",
        "\n",
        "This is a challenging task, so don't hesitate to ask for help if you need it. It's okay if the generated text doesn't make much sense yet - we'll work on improving the model next.\n",
        "As a bonus, you can make your method generate \"gpt-style\" by having it print out each word as it's generated, so you can see the text being generated in real time."
      ]
    },
    {
      "cell_type": "code",
      "execution_count": 27,
      "id": "d73dbf278a1265ef",
      "metadata": {
        "id": "d73dbf278a1265ef"
      },
      "outputs": [],
      "source": [
        "from keras.preprocessing.sequence import pad_sequences\n",
        "\n",
        "def get_predicted_word(model, sequence):\n",
        "    \"\"\"\n",
        "    Get the predicted word from the model.\n",
        "    This helper function uses a concept we haven't covered in class yet: temperature.\n",
        "    In essence, a little bit of randomness in what word we predict can make the text more interesting.\n",
        "    \"\"\"\n",
        "\n",
        "    # Use the model to predict the next token in the sequence\n",
        "    yhat = model.predict(sequence, verbose=0)\n",
        "\n",
        "    # Get the index of the predicted word, according to the probabilities\n",
        "    yhat = np.random.choice(range(VOCAB_SIZE), p=yhat.ravel())\n",
        "\n",
        "    return yhat\n",
        "\n",
        "def generate_text(model, tokenizer, seed_text, max_sequence_len):\n",
        "    \"\"\"\n",
        "    Generate new text using the trained model.\n",
        "    You can use the `get_predicted_word` helper function to help you with this.\n",
        "    \"\"\"\n",
        "    seq = tokenizer.texts_to_sequences([seed_text])[0]\n",
        "    gen_text = seed_text\n",
        "\n",
        "    padded_sequence = pad_sequences([seq], maxlen=max_sequence_len, padding='pre')\n",
        "    predicted_token = get_predicted_word(model, padded_sequence)\n",
        "    predicted_word = tokenizer.index_word[predicted_token]\n",
        "    gen_text += ' ' + predicted_word\n",
        "\n",
        "    return gen_text\n"
      ]
    },
    {
      "cell_type": "code",
      "execution_count": 28,
      "id": "f463b0c3df49e2c",
      "metadata": {
        "colab": {
          "base_uri": "https://localhost:8080/",
          "height": 35
        },
        "id": "f463b0c3df49e2c",
        "outputId": "ee53a9cb-a99e-4241-b204-c147cc7675b6"
      },
      "outputs": [
        {
          "data": {
            "application/vnd.google.colaboratory.intrinsic+json": {
              "type": "string"
            },
            "text/plain": [
              "'hamlet ghost'"
            ]
          },
          "execution_count": 28,
          "metadata": {},
          "output_type": "execute_result"
        }
      ],
      "source": [
        "# Test the text generation function\n",
        "generate_text(model, tokenizer, 'hamlet', SEQ_LENGTH)"
      ]
    },
    {
      "cell_type": "markdown",
      "id": "5871d836a0135c41",
      "metadata": {
        "collapsed": false,
        "id": "5871d836a0135c41"
      },
      "source": [
        "It's likely that the text generated by your model doesn't make much sense yet. This is because the model hasn't been trained for very long, and the training dataset is relatively small.\n",
        "\n",
        "# 4. Model Refinement (Complete or Incomplete)\n",
        "\n",
        "In this last section, you'll work on improving your model. There are many ways to do this, but here are a few ideas to get you started:\n",
        "\n",
        "* Use pre-trained embeddings: the code below will help you to load pre-trained embeddings through Keras.\n",
        "* Experiment with different model architectures, including the number of layers, the number of units in each layer, and the use of dropout layers.\n",
        "* Train your model for longer. You can also experiment with different batch sizes.\n",
        "\n",
        "Implement and test out at least one of these ideas. If you have other ideas for improving the model, feel free to try them out as well."
      ]
    },
    {
      "cell_type": "code",
      "execution_count": 29,
      "id": "dda8b0f845c20862",
      "metadata": {
        "colab": {
          "base_uri": "https://localhost:8080/"
        },
        "id": "dda8b0f845c20862",
        "outputId": "a2fa58ae-0ccb-4ee7-85eb-c262e29458c5"
      },
      "outputs": [
        {
          "name": "stdout",
          "output_type": "stream",
          "text": [
            "--2024-08-04 23:26:07--  https://downloads.cs.stanford.edu/nlp/data/glove.6B.zip\n",
            "Resolving downloads.cs.stanford.edu (downloads.cs.stanford.edu)... 171.64.64.22\n",
            "Connecting to downloads.cs.stanford.edu (downloads.cs.stanford.edu)|171.64.64.22|:443... connected.\n",
            "HTTP request sent, awaiting response... 200 OK\n",
            "Length: 862182613 (822M) [application/zip]\n",
            "Saving to: ‘glove.6B.zip’\n",
            "\n",
            "glove.6B.zip        100%[===================>] 822.24M  5.15MB/s    in 2m 39s  \n",
            "\n",
            "2024-08-04 23:28:46 (5.18 MB/s) - ‘glove.6B.zip’ saved [862182613/862182613]\n",
            "\n",
            "Archive:  glove.6B.zip\n",
            "  inflating: glove.6B.50d.txt        \n",
            "  inflating: glove.6B.100d.txt       \n",
            "  inflating: glove.6B.200d.txt       \n",
            "  inflating: glove.6B.300d.txt       \n"
          ]
        }
      ],
      "source": [
        "!wget https://downloads.cs.stanford.edu/nlp/data/glove.6B.zip\n",
        "!unzip glove.6B.zip"
      ]
    },
    {
      "cell_type": "code",
      "execution_count": 30,
      "id": "e8b777220505635",
      "metadata": {
        "colab": {
          "base_uri": "https://localhost:8080/"
        },
        "id": "e8b777220505635",
        "outputId": "e4b6033e-307b-42cf-c8a2-36396839aa3d"
      },
      "outputs": [
        {
          "name": "stdout",
          "output_type": "stream",
          "text": [
            "Found 400000 word vectors.\n"
          ]
        }
      ],
      "source": [
        "# Load the pre-trained embeddings\n",
        "embeddings_index = {}\n",
        "try:\n",
        "    with open('glove.6B.100d.txt', encoding='utf-8') as f:\n",
        "        for line in f:\n",
        "            values = line.split()\n",
        "            word = values[0]\n",
        "            coefs = np.asarray(values[1:], dtype='float32')\n",
        "            embeddings_index[word] = coefs\n",
        "    print(f'Found {len(embeddings_index)} word vectors.')\n",
        "except FileNotFoundError:\n",
        "    print(\"'glove.6B.100d.txt' File not found. Please make sure you have ran the previous cell.\")"
      ]
    },
    {
      "cell_type": "code",
      "execution_count": 31,
      "id": "d3e48ff004757cf2",
      "metadata": {
        "id": "d3e48ff004757cf2"
      },
      "outputs": [],
      "source": [
        "# Check if VOCAB_SIZE is set\n",
        "if VOCAB_SIZE is None:\n",
        "    print(\"You need to complete the previous parts of your assignment in order for this to work.\")\n",
        "else:\n",
        "    # Create an embedding matrix\n",
        "    embedding_matrix = np.zeros((VOCAB_SIZE, 100))\n",
        "    for word, i in tokenizer.word_index.items():\n",
        "        if i < VOCAB_SIZE:\n",
        "            embedding_vector = embeddings_index.get(word)\n",
        "            if embedding_vector is not None:\n",
        "                embedding_matrix[i] = embedding_vector"
      ]
    },
    {
      "cell_type": "code",
      "execution_count": 32,
      "id": "e3d21d5dbbbcf9f9",
      "metadata": {
        "colab": {
          "base_uri": "https://localhost:8080/"
        },
        "id": "e3d21d5dbbbcf9f9",
        "outputId": "75d8da98-8542-477d-b4d5-7718855102a6"
      },
      "outputs": [
        {
          "name": "stderr",
          "output_type": "stream",
          "text": [
            "/usr/local/lib/python3.10/dist-packages/keras/src/layers/core/embedding.py:90: UserWarning: Argument `input_length` is deprecated. Just remove it.\n",
            "  warnings.warn(\n"
          ]
        }
      ],
      "source": [
        "# Check if VOCAB_SIZE is set\n",
        "if VOCAB_SIZE is None:\n",
        "    print(\"You need to complete the previous parts of your assignment in order for this to work.\")\n",
        "else:\n",
        "    embedding_layer = Embedding(\n",
        "        VOCAB_SIZE, 100, weights=[embedding_matrix], input_length=SEQ_LENGTH, trainable=False\n",
        "    )"
      ]
    },
    {
      "cell_type": "code",
      "execution_count": 35,
      "id": "236cb723e4e5b3fc",
      "metadata": {
        "id": "236cb723e4e5b3fc"
      },
      "outputs": [],
      "source": [
        "# Define a new model and train it\n",
        "from tensorflow.keras.layers import Dropout\n",
        "\n",
        "model = Sequential([\n",
        "    embedding_layer,\n",
        "    LSTM(128, return_sequences=True),\n",
        "    Dropout(0.5),\n",
        "    LSTM(128),\n",
        "    Dense(VOCAB_SIZE, activation='softmax')\n",
        "])"
      ]
    },
    {
      "cell_type": "code",
      "execution_count": 36,
      "id": "zooTcE57uzZK",
      "metadata": {
        "colab": {
          "base_uri": "https://localhost:8080/",
          "height": 847
        },
        "id": "zooTcE57uzZK",
        "outputId": "be29ab98-7cee-4c31-91fa-1507bc4d2bb4"
      },
      "outputs": [
        {
          "data": {
            "text/html": [
              "<pre style=\"white-space:pre;overflow-x:auto;line-height:normal;font-family:Menlo,'DejaVu Sans Mono',consolas,'Courier New',monospace\"><span style=\"font-weight: bold\">Model: \"sequential_2\"</span>\n",
              "</pre>\n"
            ],
            "text/plain": [
              "\u001b[1mModel: \"sequential_2\"\u001b[0m\n"
            ]
          },
          "metadata": {},
          "output_type": "display_data"
        },
        {
          "data": {
            "text/html": [
              "<pre style=\"white-space:pre;overflow-x:auto;line-height:normal;font-family:Menlo,'DejaVu Sans Mono',consolas,'Courier New',monospace\">┏━━━━━━━━━━━━━━━━━━━━━━━━━━━━━━━━━━━━━━┳━━━━━━━━━━━━━━━━━━━━━━━━━━━━━┳━━━━━━━━━━━━━━━━━┓\n",
              "┃<span style=\"font-weight: bold\"> Layer (type)                         </span>┃<span style=\"font-weight: bold\"> Output Shape                </span>┃<span style=\"font-weight: bold\">         Param # </span>┃\n",
              "┡━━━━━━━━━━━━━━━━━━━━━━━━━━━━━━━━━━━━━━╇━━━━━━━━━━━━━━━━━━━━━━━━━━━━━╇━━━━━━━━━━━━━━━━━┩\n",
              "│ embedding_1 (<span style=\"color: #0087ff; text-decoration-color: #0087ff\">Embedding</span>)              │ ?                           │         <span style=\"color: #00af00; text-decoration-color: #00af00\">522,300</span> │\n",
              "├──────────────────────────────────────┼─────────────────────────────┼─────────────────┤\n",
              "│ lstm_3 (<span style=\"color: #0087ff; text-decoration-color: #0087ff\">LSTM</span>)                        │ ?                           │     <span style=\"color: #00af00; text-decoration-color: #00af00\">0</span> (unbuilt) │\n",
              "├──────────────────────────────────────┼─────────────────────────────┼─────────────────┤\n",
              "│ dropout_1 (<span style=\"color: #0087ff; text-decoration-color: #0087ff\">Dropout</span>)                  │ ?                           │     <span style=\"color: #00af00; text-decoration-color: #00af00\">0</span> (unbuilt) │\n",
              "├──────────────────────────────────────┼─────────────────────────────┼─────────────────┤\n",
              "│ lstm_4 (<span style=\"color: #0087ff; text-decoration-color: #0087ff\">LSTM</span>)                        │ ?                           │     <span style=\"color: #00af00; text-decoration-color: #00af00\">0</span> (unbuilt) │\n",
              "├──────────────────────────────────────┼─────────────────────────────┼─────────────────┤\n",
              "│ dense_2 (<span style=\"color: #0087ff; text-decoration-color: #0087ff\">Dense</span>)                      │ ?                           │     <span style=\"color: #00af00; text-decoration-color: #00af00\">0</span> (unbuilt) │\n",
              "└──────────────────────────────────────┴─────────────────────────────┴─────────────────┘\n",
              "</pre>\n"
            ],
            "text/plain": [
              "┏━━━━━━━━━━━━━━━━━━━━━━━━━━━━━━━━━━━━━━┳━━━━━━━━━━━━━━━━━━━━━━━━━━━━━┳━━━━━━━━━━━━━━━━━┓\n",
              "┃\u001b[1m \u001b[0m\u001b[1mLayer (type)                        \u001b[0m\u001b[1m \u001b[0m┃\u001b[1m \u001b[0m\u001b[1mOutput Shape               \u001b[0m\u001b[1m \u001b[0m┃\u001b[1m \u001b[0m\u001b[1m        Param #\u001b[0m\u001b[1m \u001b[0m┃\n",
              "┡━━━━━━━━━━━━━━━━━━━━━━━━━━━━━━━━━━━━━━╇━━━━━━━━━━━━━━━━━━━━━━━━━━━━━╇━━━━━━━━━━━━━━━━━┩\n",
              "│ embedding_1 (\u001b[38;5;33mEmbedding\u001b[0m)              │ ?                           │         \u001b[38;5;34m522,300\u001b[0m │\n",
              "├──────────────────────────────────────┼─────────────────────────────┼─────────────────┤\n",
              "│ lstm_3 (\u001b[38;5;33mLSTM\u001b[0m)                        │ ?                           │     \u001b[38;5;34m0\u001b[0m (unbuilt) │\n",
              "├──────────────────────────────────────┼─────────────────────────────┼─────────────────┤\n",
              "│ dropout_1 (\u001b[38;5;33mDropout\u001b[0m)                  │ ?                           │     \u001b[38;5;34m0\u001b[0m (unbuilt) │\n",
              "├──────────────────────────────────────┼─────────────────────────────┼─────────────────┤\n",
              "│ lstm_4 (\u001b[38;5;33mLSTM\u001b[0m)                        │ ?                           │     \u001b[38;5;34m0\u001b[0m (unbuilt) │\n",
              "├──────────────────────────────────────┼─────────────────────────────┼─────────────────┤\n",
              "│ dense_2 (\u001b[38;5;33mDense\u001b[0m)                      │ ?                           │     \u001b[38;5;34m0\u001b[0m (unbuilt) │\n",
              "└──────────────────────────────────────┴─────────────────────────────┴─────────────────┘\n"
            ]
          },
          "metadata": {},
          "output_type": "display_data"
        },
        {
          "data": {
            "text/html": [
              "<pre style=\"white-space:pre;overflow-x:auto;line-height:normal;font-family:Menlo,'DejaVu Sans Mono',consolas,'Courier New',monospace\"><span style=\"font-weight: bold\"> Total params: </span><span style=\"color: #00af00; text-decoration-color: #00af00\">522,300</span> (1.99 MB)\n",
              "</pre>\n"
            ],
            "text/plain": [
              "\u001b[1m Total params: \u001b[0m\u001b[38;5;34m522,300\u001b[0m (1.99 MB)\n"
            ]
          },
          "metadata": {},
          "output_type": "display_data"
        },
        {
          "data": {
            "text/html": [
              "<pre style=\"white-space:pre;overflow-x:auto;line-height:normal;font-family:Menlo,'DejaVu Sans Mono',consolas,'Courier New',monospace\"><span style=\"font-weight: bold\"> Trainable params: </span><span style=\"color: #00af00; text-decoration-color: #00af00\">0</span> (0.00 B)\n",
              "</pre>\n"
            ],
            "text/plain": [
              "\u001b[1m Trainable params: \u001b[0m\u001b[38;5;34m0\u001b[0m (0.00 B)\n"
            ]
          },
          "metadata": {},
          "output_type": "display_data"
        },
        {
          "data": {
            "text/html": [
              "<pre style=\"white-space:pre;overflow-x:auto;line-height:normal;font-family:Menlo,'DejaVu Sans Mono',consolas,'Courier New',monospace\"><span style=\"font-weight: bold\"> Non-trainable params: </span><span style=\"color: #00af00; text-decoration-color: #00af00\">522,300</span> (1.99 MB)\n",
              "</pre>\n"
            ],
            "text/plain": [
              "\u001b[1m Non-trainable params: \u001b[0m\u001b[38;5;34m522,300\u001b[0m (1.99 MB)\n"
            ]
          },
          "metadata": {},
          "output_type": "display_data"
        },
        {
          "name": "stdout",
          "output_type": "stream",
          "text": [
            "Epoch 1/15\n",
            "\u001b[1m154/154\u001b[0m \u001b[32m━━━━━━━━━━━━━━━━━━━━\u001b[0m\u001b[37m\u001b[0m \u001b[1m8s\u001b[0m 16ms/step - accuracy: 0.0251 - loss: 7.4809 - val_accuracy: 0.0403 - val_loss: 6.7906\n",
            "Epoch 2/15\n",
            "\u001b[1m154/154\u001b[0m \u001b[32m━━━━━━━━━━━━━━━━━━━━\u001b[0m\u001b[37m\u001b[0m \u001b[1m4s\u001b[0m 13ms/step - accuracy: 0.0387 - loss: 6.4889 - val_accuracy: 0.0403 - val_loss: 6.8729\n",
            "Epoch 3/15\n",
            "\u001b[1m154/154\u001b[0m \u001b[32m━━━━━━━━━━━━━━━━━━━━\u001b[0m\u001b[37m\u001b[0m \u001b[1m2s\u001b[0m 13ms/step - accuracy: 0.0356 - loss: 6.4264 - val_accuracy: 0.0432 - val_loss: 6.8924\n",
            "Epoch 4/15\n",
            "\u001b[1m154/154\u001b[0m \u001b[32m━━━━━━━━━━━━━━━━━━━━\u001b[0m\u001b[37m\u001b[0m \u001b[1m4s\u001b[0m 20ms/step - accuracy: 0.0422 - loss: 6.3545 - val_accuracy: 0.0432 - val_loss: 6.9068\n",
            "Epoch 5/15\n",
            "\u001b[1m154/154\u001b[0m \u001b[32m━━━━━━━━━━━━━━━━━━━━\u001b[0m\u001b[37m\u001b[0m \u001b[1m5s\u001b[0m 21ms/step - accuracy: 0.0470 - loss: 6.3314 - val_accuracy: 0.0587 - val_loss: 6.9113\n",
            "Epoch 6/15\n",
            "\u001b[1m154/154\u001b[0m \u001b[32m━━━━━━━━━━━━━━━━━━━━\u001b[0m\u001b[37m\u001b[0m \u001b[1m3s\u001b[0m 21ms/step - accuracy: 0.0560 - loss: 6.2671 - val_accuracy: 0.0611 - val_loss: 6.9036\n",
            "Epoch 7/15\n",
            "\u001b[1m154/154\u001b[0m \u001b[32m━━━━━━━━━━━━━━━━━━━━\u001b[0m\u001b[37m\u001b[0m \u001b[1m3s\u001b[0m 17ms/step - accuracy: 0.0594 - loss: 6.1699 - val_accuracy: 0.0660 - val_loss: 6.8802\n",
            "Epoch 8/15\n",
            "\u001b[1m154/154\u001b[0m \u001b[32m━━━━━━━━━━━━━━━━━━━━\u001b[0m\u001b[37m\u001b[0m \u001b[1m5s\u001b[0m 14ms/step - accuracy: 0.0666 - loss: 6.0824 - val_accuracy: 0.0721 - val_loss: 6.8619\n",
            "Epoch 9/15\n",
            "\u001b[1m154/154\u001b[0m \u001b[32m━━━━━━━━━━━━━━━━━━━━\u001b[0m\u001b[37m\u001b[0m \u001b[1m2s\u001b[0m 13ms/step - accuracy: 0.0713 - loss: 5.9764 - val_accuracy: 0.0697 - val_loss: 6.8853\n",
            "Epoch 10/15\n",
            "\u001b[1m154/154\u001b[0m \u001b[32m━━━━━━━━━━━━━━━━━━━━\u001b[0m\u001b[37m\u001b[0m \u001b[1m2s\u001b[0m 13ms/step - accuracy: 0.0724 - loss: 5.8656 - val_accuracy: 0.0692 - val_loss: 6.8541\n",
            "Epoch 11/15\n",
            "\u001b[1m154/154\u001b[0m \u001b[32m━━━━━━━━━━━━━━━━━━━━\u001b[0m\u001b[37m\u001b[0m \u001b[1m3s\u001b[0m 16ms/step - accuracy: 0.0795 - loss: 5.7729 - val_accuracy: 0.0737 - val_loss: 6.8797\n",
            "Epoch 12/15\n",
            "\u001b[1m154/154\u001b[0m \u001b[32m━━━━━━━━━━━━━━━━━━━━\u001b[0m\u001b[37m\u001b[0m \u001b[1m3s\u001b[0m 20ms/step - accuracy: 0.0799 - loss: 5.6594 - val_accuracy: 0.0802 - val_loss: 6.8714\n",
            "Epoch 13/15\n",
            "\u001b[1m154/154\u001b[0m \u001b[32m━━━━━━━━━━━━━━━━━━━━\u001b[0m\u001b[37m\u001b[0m \u001b[1m5s\u001b[0m 19ms/step - accuracy: 0.0789 - loss: 5.5997 - val_accuracy: 0.0811 - val_loss: 6.9020\n",
            "Epoch 14/15\n",
            "\u001b[1m154/154\u001b[0m \u001b[32m━━━━━━━━━━━━━━━━━━━━\u001b[0m\u001b[37m\u001b[0m \u001b[1m3s\u001b[0m 20ms/step - accuracy: 0.0868 - loss: 5.4808 - val_accuracy: 0.0843 - val_loss: 6.9134\n",
            "Epoch 15/15\n",
            "\u001b[1m154/154\u001b[0m \u001b[32m━━━━━━━━━━━━━━━━━━━━\u001b[0m\u001b[37m\u001b[0m \u001b[1m2s\u001b[0m 16ms/step - accuracy: 0.0913 - loss: 5.4239 - val_accuracy: 0.0798 - val_loss: 6.9231\n"
          ]
        }
      ],
      "source": [
        "\n",
        "model.compile(\n",
        "    loss='categorical_crossentropy',\n",
        "    optimizer=Adam(learning_rate=0.001),\n",
        "    metrics=['accuracy']\n",
        ")\n",
        "\n",
        "\n",
        "model.summary()\n",
        "\n",
        "history = model.fit(X_train, y_train, validation_split=0.2, epochs=15, batch_size=64)"
      ]
    },
    {
      "cell_type": "markdown",
      "id": "742095fb",
      "metadata": {
        "id": "742095fb"
      },
      "source": [
        "## Criteria\n",
        "\n",
        "|Criteria|Complete|Incomplete|\n",
        "|----|----|----|\n",
        "|Task 1|The task has been completed successfully and there are no errors.|The task is still incomplete and there is at least one error.|\n",
        "|Task 2|The task has been completed successfully and there are no errors.|The task is still incomplete and there is at least one error.|\n",
        "|Task 3|The task has been completed successfully and there are no errors.|The task is still incomplete and there is at least one error.|\n",
        "|Task 4|The task has been completed successfully and there are no errors.|The task is still incomplete and there is at least one error.|"
      ]
    },
    {
      "cell_type": "markdown",
      "id": "1990e2d2",
      "metadata": {
        "id": "1990e2d2"
      },
      "source": [
        "## Submission Information\n",
        "\n",
        "🚨**Please review our [Assignment Submission Guide](https://github.com/UofT-DSI/onboarding/blob/main/onboarding_documents/submissions.md)**🚨 for detailed instructions on how to format, branch, and submit your work. Following these guidelines is crucial for your submissions to be evaluated correctly.\n",
        "\n",
        "### Submission Parameters:\n",
        "* Submission Due Date: `HH:MM AM/PM - DD/MM/YYYY`\n",
        "* The branch name for your repo should be: `assignment-2`\n",
        "* What to submit for this assignment:\n",
        "    * This Jupyter Notebook (assignment_2.ipynb) should be populated and should be the only change in your pull request.\n",
        "* What the pull request link should look like for this assignment: `https://github.com/<your_github_username>/deep_learning/pull/<pr_id>`\n",
        "    * Open a private window in your browser. Copy and paste the link to your pull request into the address bar. Make sure you can see your pull request properly. This helps the technical facilitator and learning support staff review your submission easily.\n",
        "\n",
        "Checklist:\n",
        "- [ ] Created a branch with the correct naming convention.\n",
        "- [ ] Ensured that the repository is public.\n",
        "- [ ] Reviewed the PR description guidelines and adhered to them.\n",
        "- [ ] Verify that the link is accessible in a private browser window.\n",
        "\n",
        "If you encounter any difficulties or have questions, please don't hesitate to reach out to our team via our Slack at `#cohort-3-help`. Our Technical Facilitators and Learning Support staff are here to help you navigate any challenges."
      ]
    }
  ],
  "metadata": {
    "accelerator": "GPU",
    "colab": {
      "gpuType": "T4",
      "provenance": []
    },
    "kernelspec": {
      "display_name": "Python 3",
      "name": "python3"
    },
    "language_info": {
      "codemirror_mode": {
        "name": "ipython",
        "version": 3
      },
      "file_extension": ".py",
      "mimetype": "text/x-python",
      "name": "python",
      "nbconvert_exporter": "python",
      "pygments_lexer": "ipython3",
      "version": "3.9.18"
    }
  },
  "nbformat": 4,
  "nbformat_minor": 5
}
